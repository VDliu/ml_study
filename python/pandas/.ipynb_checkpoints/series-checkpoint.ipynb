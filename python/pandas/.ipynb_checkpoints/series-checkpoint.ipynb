{
 "cells": [
  {
   "cell_type": "code",
   "execution_count": 31,
   "metadata": {},
   "outputs": [
    {
     "name": "stdout",
     "output_type": "stream",
     "text": [
      "origin data : \n",
      "    Number    h  weiht  gender      name  temperature  married\n",
      "0       1  199    200       1  zhangsan         37.5      NaN\n",
      "1       2  200    200       1      lisi         37.2      1.0\n",
      "2       3  155    200       0    wangwu         37.6      1.0\n",
      "3       4  155    200       0    wangwu         37.6      0.0\n",
      "4       5  135    200       0    wangwu         37.6      NaN\n",
      "5       6  145    200       0    wangwu         37.6      0.0\n",
      "6       7  165    200       0    wangwu         37.6      NaN\n",
      "type of gender_row:\n",
      " <class 'pandas.core.series.Series'>\n",
      "type of series vaules :\n",
      " <class 'numpy.ndarray'>\n",
      "values of g_values : \n",
      " [1 1 0 0 0 0 0]\n",
      "name\n",
      "zhangsan    1\n",
      "lisi        1\n",
      "wangwu      0\n",
      "wangwu      0\n",
      "wangwu      0\n",
      "wangwu      0\n",
      "wangwu      0\n",
      "dtype: int64\n",
      "name of lisi value : \n",
      " name\n",
      "lisi        1\n",
      "zhangsan    1\n",
      "dtype: int64\n"
     ]
    }
   ],
   "source": [
    "#DataFrame 由一些列Series组成，表示其中一行或者一列\n",
    "\n",
    "#pandas 排序\n",
    "\n",
    "import pandas \n",
    "import numpy as np\n",
    "from pandas import Series\n",
    "\n",
    "\n",
    "file = pandas.read_csv(\"test.csv\")\n",
    "print(\"origin data : \\n\",file)\n",
    "\n",
    "gender_row = file[\"gender\"]\n",
    "names = file[\"name\"]\n",
    "print(\"type of gender_row:\\n\",type(gender_row))\n",
    "\n",
    "g_vaules = gender_row.values\n",
    "#series由ndarray组成\n",
    "print(\"type of series vaules :\\n\",type(g_vaules))\n",
    "print(\"values of g_values : \\n\",g_vaules)\n",
    "\n",
    "\n",
    "#构建自己的series  params 1:  vaules[], params 2: keys[]\n",
    "series_data = Series(g_vaules,index =names)\n",
    "print(series_data)\n",
    "\n",
    "print(\"name of lisi and zhangsan values : \\n\",series_data[[\"lisi\",\"zhangsan\"]])\n",
    "\n",
    "\n",
    "\n",
    "\n",
    "\n",
    "\n"
   ]
  },
  {
   "cell_type": "code",
   "execution_count": null,
   "metadata": {},
   "outputs": [],
   "source": []
  }
 ],
 "metadata": {
  "kernelspec": {
   "display_name": "Python 3",
   "language": "python",
   "name": "python3"
  },
  "language_info": {
   "codemirror_mode": {
    "name": "ipython",
    "version": 3
   },
   "file_extension": ".py",
   "mimetype": "text/x-python",
   "name": "python",
   "nbconvert_exporter": "python",
   "pygments_lexer": "ipython3",
   "version": "3.6.8"
  }
 },
 "nbformat": 4,
 "nbformat_minor": 2
}
