{
 "cells": [
  {
   "cell_type": "code",
   "execution_count": 6,
   "metadata": {},
   "outputs": [
    {
     "name": "stdout",
     "output_type": "stream",
     "text": [
      "   Number    h  weiht  gender      name  temperature  married\n",
      "0       1  199    200       1  zhangsan         37.5      NaN\n",
      "1       2  200    200       1      lisi         37.2      1.0\n",
      "2       3  155    200       0    wangwu         37.6      1.0\n",
      "3       4  155    200       0    wangwu         37.6      0.0\n",
      "4       5  135    200       0    wangwu         37.6      NaN\n",
      "5       6  145    200       0    wangwu         37.6      0.0\n",
      "6       7  165    200       0    wangwu         37.6      NaN\n",
      "   Number    h  weiht  gender      name  temperature  married\n",
      "1       2  200    200       1      lisi         37.2      1.0\n",
      "0       1  199    200       1  zhangsan         37.5      NaN\n",
      "6       7  165    200       0    wangwu         37.6      NaN\n",
      "2       3  155    200       0    wangwu         37.6      1.0\n",
      "3       4  155    200       0    wangwu         37.6      0.0\n",
      "5       6  145    200       0    wangwu         37.6      0.0\n",
      "4       5  135    200       0    wangwu         37.6      NaN\n",
      "   Number    h  weiht  gender      name  temperature  married\n",
      "0       2  200    200       1      lisi         37.2      1.0\n",
      "1       1  199    200       1  zhangsan         37.5      NaN\n",
      "2       7  165    200       0    wangwu         37.6      NaN\n",
      "3       3  155    200       0    wangwu         37.6      1.0\n",
      "4       4  155    200       0    wangwu         37.6      0.0\n",
      "5       6  145    200       0    wangwu         37.6      0.0\n",
      "6       5  135    200       0    wangwu         37.6      NaN\n"
     ]
    }
   ],
   "source": [
    "#pandas 排序\n",
    "\n",
    "import pandas \n",
    "import numpy as np\n",
    "\n",
    "file = pandas.read_csv(\"test.csv\")\n",
    "print(file)\n",
    "\n",
    "#降序排列，此时排序后的数据的索引没有变，如果要生成一个新的数据，并且索引也是排好序的\n",
    "sort_file = file.sort_values(\"h\",ascending = False)\n",
    "\n",
    "new_sf = sort_file.reset_index(drop = True)\n",
    "\n",
    "print(sort_file)\n",
    "\n",
    "#重新排序好的数据\n",
    "print(new_sf)\n",
    "\n"
   ]
  },
  {
   "cell_type": "code",
   "execution_count": 7,
   "metadata": {},
   "outputs": [
    {
     "name": "stdout",
     "output_type": "stream",
     "text": [
      "Number              3\n",
      "h                 155\n",
      "weiht             200\n",
      "gender              0\n",
      "name           wangwu\n",
      "temperature      37.6\n",
      "married             1\n",
      "dtype: object\n"
     ]
    }
   ],
   "source": [
    "#定义函数打印第三行数据 \n",
    "def second_row(col):\n",
    "    s_row = col.loc[2]\n",
    "    return s_row\n",
    "\n",
    "#调用DataFrame的apply函数 ，把函数名传进去即可\n",
    "sec_row = file.apply(second_row)\n",
    "print(sec_row)"
   ]
  },
  {
   "cell_type": "code",
   "execution_count": null,
   "metadata": {},
   "outputs": [],
   "source": []
  }
 ],
 "metadata": {
  "kernelspec": {
   "display_name": "Python 3",
   "language": "python",
   "name": "python3"
  },
  "language_info": {
   "codemirror_mode": {
    "name": "ipython",
    "version": 3
   },
   "file_extension": ".py",
   "mimetype": "text/x-python",
   "name": "python",
   "nbconvert_exporter": "python",
   "pygments_lexer": "ipython3",
   "version": "3.6.8"
  }
 },
 "nbformat": 4,
 "nbformat_minor": 2
}
