{
 "cells": [
  {
   "cell_type": "code",
   "execution_count": null,
   "metadata": {
    "collapsed": true
   },
   "outputs": [],
   "source": [
    "#pandas  数据处理库 ,基于numpy的一个库"
   ]
  },
  {
   "cell_type": "code",
   "execution_count": 13,
   "metadata": {},
   "outputs": [
    {
     "name": "stdout",
     "output_type": "stream",
     "text": [
      "   Number    h  weiht  gender      name  temperatur\n",
      "0       1  199    200       1  zhangsan        37.5\n",
      "1       2  200    200       1      lisi        37.2\n",
      "2       3  155    200       0    wangwu        37.6\n",
      "3       4  155    200       0    wangwu        37.6\n",
      "4       5  135    200       0    wangwu        37.6\n",
      "5       6  145    200       0    wangwu        37.6\n",
      "6       7  165    200       0    wangwu        37.6\n",
      "<class 'pandas.core.frame.DataFrame'>\n",
      "(7, 6)\n",
      "Number          int64\n",
      "h               int64\n",
      "weiht           int64\n",
      "gender          int64\n",
      "name           object\n",
      "temperatur    float64\n",
      "dtype: object\n"
     ]
    }
   ],
   "source": [
    "import pandas \n",
    "\n",
    "file = pandas.read_csv(\"test.csv\")\n",
    "print(file)\n",
    "\n",
    "#class 'pandas.core.frame.DataFrame' 为panda核心结构\n",
    "#DataFrame相当于矩阵结构\n",
    "print(type(file))\n",
    "\n",
    "print(file.shape)\n",
    "\n",
    "#字符型的值得类型为 object\n",
    "print(file.dtypes)\n",
    "\n",
    "\n",
    "\n",
    "\n"
   ]
  },
  {
   "cell_type": "code",
   "execution_count": 15,
   "metadata": {},
   "outputs": [
    {
     "data": {
      "text/html": [
       "<div>\n",
       "<style>\n",
       "    .dataframe thead tr:only-child th {\n",
       "        text-align: right;\n",
       "    }\n",
       "\n",
       "    .dataframe thead th {\n",
       "        text-align: left;\n",
       "    }\n",
       "\n",
       "    .dataframe tbody tr th {\n",
       "        vertical-align: top;\n",
       "    }\n",
       "</style>\n",
       "<table border=\"1\" class=\"dataframe\">\n",
       "  <thead>\n",
       "    <tr style=\"text-align: right;\">\n",
       "      <th></th>\n",
       "      <th>Number</th>\n",
       "      <th>h</th>\n",
       "      <th>weiht</th>\n",
       "      <th>gender</th>\n",
       "      <th>name</th>\n",
       "      <th>temperatur</th>\n",
       "    </tr>\n",
       "  </thead>\n",
       "  <tbody>\n",
       "    <tr>\n",
       "      <th>0</th>\n",
       "      <td>1</td>\n",
       "      <td>199</td>\n",
       "      <td>200</td>\n",
       "      <td>1</td>\n",
       "      <td>zhangsan</td>\n",
       "      <td>37.5</td>\n",
       "    </tr>\n",
       "    <tr>\n",
       "      <th>1</th>\n",
       "      <td>2</td>\n",
       "      <td>200</td>\n",
       "      <td>200</td>\n",
       "      <td>1</td>\n",
       "      <td>lisi</td>\n",
       "      <td>37.2</td>\n",
       "    </tr>\n",
       "    <tr>\n",
       "      <th>2</th>\n",
       "      <td>3</td>\n",
       "      <td>155</td>\n",
       "      <td>200</td>\n",
       "      <td>0</td>\n",
       "      <td>wangwu</td>\n",
       "      <td>37.6</td>\n",
       "    </tr>\n",
       "    <tr>\n",
       "      <th>3</th>\n",
       "      <td>4</td>\n",
       "      <td>155</td>\n",
       "      <td>200</td>\n",
       "      <td>0</td>\n",
       "      <td>wangwu</td>\n",
       "      <td>37.6</td>\n",
       "    </tr>\n",
       "    <tr>\n",
       "      <th>4</th>\n",
       "      <td>5</td>\n",
       "      <td>135</td>\n",
       "      <td>200</td>\n",
       "      <td>0</td>\n",
       "      <td>wangwu</td>\n",
       "      <td>37.6</td>\n",
       "    </tr>\n",
       "    <tr>\n",
       "      <th>5</th>\n",
       "      <td>6</td>\n",
       "      <td>145</td>\n",
       "      <td>200</td>\n",
       "      <td>0</td>\n",
       "      <td>wangwu</td>\n",
       "      <td>37.6</td>\n",
       "    </tr>\n",
       "    <tr>\n",
       "      <th>6</th>\n",
       "      <td>7</td>\n",
       "      <td>165</td>\n",
       "      <td>200</td>\n",
       "      <td>0</td>\n",
       "      <td>wangwu</td>\n",
       "      <td>37.6</td>\n",
       "    </tr>\n",
       "  </tbody>\n",
       "</table>\n",
       "</div>"
      ],
      "text/plain": [
       "   Number    h  weiht  gender      name  temperatur\n",
       "0       1  199    200       1  zhangsan        37.5\n",
       "1       2  200    200       1      lisi        37.2\n",
       "2       3  155    200       0    wangwu        37.6\n",
       "3       4  155    200       0    wangwu        37.6\n",
       "4       5  135    200       0    wangwu        37.6\n",
       "5       6  145    200       0    wangwu        37.6\n",
       "6       7  165    200       0    wangwu        37.6"
      ]
     },
     "execution_count": 15,
     "metadata": {},
     "output_type": "execute_result"
    }
   ],
   "source": [
    "#显示cvs文件内容的，默认显示前5条，\n",
    "file.head()\n",
    "\n",
    "#file.head(3)显示前三条\n"
   ]
  },
  {
   "cell_type": "code",
   "execution_count": null,
   "metadata": {
    "collapsed": true
   },
   "outputs": [],
   "source": []
  }
 ],
 "metadata": {
  "kernelspec": {
   "display_name": "Python 3",
   "language": "python",
   "name": "python3"
  },
  "language_info": {
   "codemirror_mode": {
    "name": "ipython",
    "version": 3
   },
   "file_extension": ".py",
   "mimetype": "text/x-python",
   "name": "python",
   "nbconvert_exporter": "python",
   "pygments_lexer": "ipython3",
   "version": "3.5.4"
  }
 },
 "nbformat": 4,
 "nbformat_minor": 2
}
