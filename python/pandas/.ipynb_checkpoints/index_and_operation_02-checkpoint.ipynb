{
 "cells": [
  {
   "cell_type": "code",
   "execution_count": 50,
   "metadata": {},
   "outputs": [
    {
     "name": "stdout",
     "output_type": "stream",
     "text": [
      "   Number    h  weiht  gender      name  temperatur\n",
      "0       1  199    200       1  zhangsan        37.5\n",
      "1       2  200    200       1      lisi        37.2\n",
      "2       3  155    200       0    wangwu        37.6\n",
      "3       4  155    200       0    wangwu        37.6\n",
      "4       5  135    200       0    wangwu        37.6\n",
      "5       6  145    200       0    wangwu        37.6\n",
      "6       7  165    200       0    wangwu        37.6\n"
     ]
    }
   ],
   "source": [
    "import pandas \n",
    "\n",
    "file = pandas.read_csv(\"test.csv\")\n",
    "print(file)\n",
    "\n"
   ]
  },
  {
   "cell_type": "code",
   "execution_count": 51,
   "metadata": {},
   "outputs": [
    {
     "name": "stdout",
     "output_type": "stream",
     "text": [
      "<class 'pandas.core.series.Series'>\n",
      "local_0 value = \n",
      " Number               1\n",
      "h                  199\n",
      "weiht              200\n",
      "gender               1\n",
      "name          zhangsan\n",
      "temperatur        37.5\n",
      "Name: 0, dtype: object\n",
      "---------------------------\n",
      "---------------------------\n",
      "index in series local_0 = 1,value =  199\n"
     ]
    }
   ],
   "source": [
    "#获取第三行数据\n",
    "local_0 = file.loc[0]\n",
    "print(type(file.loc[0]))# type = 'pandas.core.series.Series',相当于字典\n",
    "print(\"local_0 value = \\n\",local_0)\n",
    "print(\"---------------------------\")\n",
    "print(\"---------------------------\")\n",
    "print(\"index in series local_0 = 1,value = \",local_0[1])#获取series中的第四个数据，打印199"
   ]
  },
  {
   "cell_type": "code",
   "execution_count": 53,
   "metadata": {},
   "outputs": [
    {
     "name": "stdout",
     "output_type": "stream",
     "text": [
      "type of local_pice : \n",
      " <class 'pandas.core.frame.DataFrame'>\n",
      "shape of local_pice :\n",
      " (3, 6)\n",
      "data of the local_pice:\n",
      "    Number    h  weiht  gender      name  temperatur\n",
      "0       1  199    200       1  zhangsan        37.5\n",
      "1       2  200    200       1      lisi        37.2\n",
      "2       3  155    200       0    wangwu        37.6\n"
     ]
    }
   ],
   "source": [
    "#通过切片获取数据,此时得到的数据任然为DataFrame\n",
    "local_pice = file.loc[:2]\n",
    "print(\"type of local_pice : \\n\",type(local_pice))\n",
    "print(\"shape of local_pice :\\n\",local_pice.shape)      \n",
    "print(\"data of the local_pice:\\n\",local_pice)\n"
   ]
  },
  {
   "cell_type": "code",
   "execution_count": 55,
   "metadata": {},
   "outputs": [
    {
     "name": "stdout",
     "output_type": "stream",
     "text": [
      "<class 'pandas.core.frame.DataFrame'>\n",
      "   Number    h  weiht  gender    name  temperatur\n",
      "1       2  200    200       1    lisi        37.2\n",
      "3       4  155    200       0  wangwu        37.6\n",
      "5       6  145    200       0  wangwu        37.6\n"
     ]
    }
   ],
   "source": [
    "#传入任意的index 就可以获取到相应值,得到的还是DataFrame\n",
    "\n",
    "indexs = [1,3,5]\n",
    "data = file.loc[indexs]\n",
    "print(type(data))\n",
    "print(data)"
   ]
  },
  {
   "cell_type": "code",
   "execution_count": null,
   "metadata": {
    "collapsed": true
   },
   "outputs": [],
   "source": []
  }
 ],
 "metadata": {
  "kernelspec": {
   "display_name": "Python 3",
   "language": "python",
   "name": "python3"
  },
  "language_info": {
   "codemirror_mode": {
    "name": "ipython",
    "version": 3
   },
   "file_extension": ".py",
   "mimetype": "text/x-python",
   "name": "python",
   "nbconvert_exporter": "python",
   "pygments_lexer": "ipython3",
   "version": "3.5.4"
  }
 },
 "nbformat": 4,
 "nbformat_minor": 2
}
