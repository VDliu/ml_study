{
 "cells": [
  {
   "cell_type": "code",
   "execution_count": 24,
   "metadata": {},
   "outputs": [
    {
     "name": "stdout",
     "output_type": "stream",
     "text": [
      "   Number    h  weiht  gender      name  temperature  married\n",
      "0       1  199    200       1  zhangsan         37.5      NaN\n",
      "1       2  200    200       1      lisi         37.2      1.0\n",
      "2       3  155    200       0    wangwu         37.6      1.0\n",
      "3       4  155    200       0    wangwu         37.6      0.0\n",
      "4       5  135    200       0    wangwu         37.6      NaN\n",
      "5       6  145    200       0    wangwu         37.6      0.0\n",
      "6       7  165    200       0    wangwu         37.6      NaN\n"
     ]
    }
   ],
   "source": [
    "import pandas \n",
    "import numpy as np\n",
    "\n",
    "file = pandas.read_csv(\"test.csv\")\n",
    "print(file)\n",
    "\n"
   ]
  },
  {
   "cell_type": "code",
   "execution_count": 5,
   "metadata": {},
   "outputs": [
    {
     "name": "stdout",
     "output_type": "stream",
     "text": [
      "<class 'pandas.core.series.Series'>\n",
      "local_0 value = \n",
      " Number               1\n",
      "h                  199\n",
      "weiht              200\n",
      "gender               1\n",
      "name          zhangsan\n",
      "temperatur        37.5\n",
      "Name: 0, dtype: object\n",
      "---------------------------\n",
      "---------------------------\n",
      "index in series local_0 = 1,value =  199\n"
     ]
    }
   ],
   "source": [
    "#获取第三行数据\n",
    "local_0 = file.loc[0]\n",
    "print(type(file.loc[0]))# type = 'pandas.core.series.Series',相当于字典\n",
    "print(\"local_0 value = \\n\",local_0)\n",
    "print(\"---------------------------\")\n",
    "print(\"---------------------------\")\n",
    "print(\"index in series local_0 = 1,value = \",local_0[1])#获取series中的第四个数据，打印199"
   ]
  },
  {
   "cell_type": "code",
   "execution_count": 26,
   "metadata": {},
   "outputs": [
    {
     "name": "stdout",
     "output_type": "stream",
     "text": [
      "type of local_pice : \n",
      " <class 'pandas.core.frame.DataFrame'>\n",
      "shape of local_pice :\n",
      " (3, 7)\n",
      "data of the local_pice:\n",
      "    Number    h  weiht  gender      name  temperature  married\n",
      "0       1  199    200       1  zhangsan         37.5      NaN\n",
      "1       2  200    200       1      lisi         37.2      1.0\n",
      "2       3  155    200       0    wangwu         37.6      1.0\n"
     ]
    }
   ],
   "source": [
    "#通过切片获取数据,此时得到的数据任然为DataFrame\n",
    "local_pice = file.loc[:2]\n",
    "print(\"type of local_pice : \\n\",type(local_pice))\n",
    "print(\"shape of local_pice :\\n\",local_pice.shape)      \n",
    "print(\"data of the local_pice:\\n\",local_pice)\n"
   ]
  },
  {
   "cell_type": "code",
   "execution_count": 27,
   "metadata": {},
   "outputs": [
    {
     "name": "stdout",
     "output_type": "stream",
     "text": [
      "<class 'pandas.core.frame.DataFrame'>\n",
      "   Number    h  weiht  gender    name  temperature  married\n",
      "1       2  200    200       1    lisi         37.2      1.0\n",
      "3       4  155    200       0  wangwu         37.6      0.0\n",
      "5       6  145    200       0  wangwu         37.6      0.0\n"
     ]
    }
   ],
   "source": [
    "#传入任意的index 就可以获取到相应值,得到的还是DataFrame\n",
    "\n",
    "indexs = [1,3,5]\n",
    "data = file.loc[indexs]\n",
    "print(type(data))\n",
    "print(data)"
   ]
  },
  {
   "cell_type": "code",
   "execution_count": 29,
   "metadata": {},
   "outputs": [
    {
     "name": "stdout",
     "output_type": "stream",
     "text": [
      "type of cols_data: \n",
      " <class 'pandas.core.series.Series'>\n",
      "data of cols_data : \n",
      "  0    1\n",
      "1    2\n",
      "2    3\n",
      "3    4\n",
      "4    5\n",
      "5    6\n",
      "6    7\n",
      "Name: Number, dtype: int64\n",
      "------------------------------------------------------\n",
      "------------------------------------------------------\n",
      "type of arra: \n",
      " <class 'pandas.core.frame.DataFrame'>\n",
      "data of arra : \n",
      "     Number    h\n",
      "0       1  199\n",
      "1       2  200\n",
      "2       3  155\n",
      "3       4  155\n",
      "4       5  135\n",
      "5       6  145\n",
      "6       7  165\n"
     ]
    }
   ],
   "source": [
    "#通过列名获取某列数据，该数据为series\n",
    "cols_data = file[\"Number\"]\n",
    "\n",
    "print(\"type of cols_data: \\n\",type(cols_data))\n",
    "print(\"data of cols_data : \\n \",cols_data)\n",
    "\n",
    "print(\"------------------------------------------------------\")\n",
    "print(\"------------------------------------------------------\")\n",
    "\n",
    "#通过列名获取多列数据,获取到的数据为DataFrame\n",
    "data_name = [\"Number\",\"h\"]\n",
    "arra = file[data_name]\n",
    "print(\"type of arra: \\n\",type(arra))\n",
    "print(\"data of arra : \\n \",arra)"
   ]
  },
  {
   "cell_type": "code",
   "execution_count": 30,
   "metadata": {},
   "outputs": [
    {
     "name": "stdout",
     "output_type": "stream",
     "text": [
      "[[  0.        ]\n",
      " [ 16.66666667]\n",
      " [ 33.33333333]\n",
      " [ 50.        ]\n",
      " [ 66.66666667]\n",
      " [ 83.33333333]\n",
      " [100.        ]]\n",
      "add a col data to origin dataset :\n",
      "    Number    h  weiht  gender      name  temperature  married     addData\n",
      "0       1  199    200       1  zhangsan         37.5      NaN    0.000000\n",
      "1       2  200    200       1      lisi         37.2      1.0   16.666667\n",
      "2       3  155    200       0    wangwu         37.6      1.0   33.333333\n",
      "3       4  155    200       0    wangwu         37.6      0.0   50.000000\n",
      "4       5  135    200       0    wangwu         37.6      NaN   66.666667\n",
      "5       6  145    200       0    wangwu         37.6      0.0   83.333333\n",
      "6       7  165    200       0    wangwu         37.6      NaN  100.000000\n"
     ]
    }
   ],
   "source": [
    "#在数据集中新添加一列\n",
    "\n",
    "rows = file.shape[0]\n",
    "addDatas = np.linspace(0,100,rows)\n",
    "addDatas = addDatas.reshape(rows,1)\n",
    "\n",
    "print(addDatas)\n",
    "file[\"addData\"] = addDatas\n",
    "print(\"add a col data to origin dataset :\\n\",file)"
   ]
  },
  {
   "cell_type": "code",
   "execution_count": 13,
   "metadata": {},
   "outputs": [
    {
     "name": "stdout",
     "output_type": "stream",
     "text": [
      "0.0\n",
      "100.0\n",
      "350.0\n"
     ]
    }
   ],
   "source": [
    "minData = file[\"addData\"].min()\n",
    "maxData = file[\"addData\"].max()\n",
    "sumData = file[\"addData\"].sum()\n",
    "print(minData)\n",
    "print(maxData)\n",
    "print(sumData)"
   ]
  },
  {
   "cell_type": "code",
   "execution_count": 12,
   "metadata": {},
   "outputs": [
    {
     "name": "stdout",
     "output_type": "stream",
     "text": [
      "升序：\n",
      " 0      0.000000\n",
      "1     16.666667\n",
      "2     33.333333\n",
      "3     50.000000\n",
      "4     66.666667\n",
      "5     83.333333\n",
      "6    100.000000\n",
      "Name: addData, dtype: float64\n",
      "降序：\n",
      " 6    100.000000\n",
      "5     83.333333\n",
      "4     66.666667\n",
      "3     50.000000\n",
      "2     33.333333\n",
      "1     16.666667\n",
      "0      0.000000\n",
      "Name: addData, dtype: float64\n"
     ]
    }
   ],
   "source": [
    "#排序\n",
    "#升序\n",
    "file.sort_values(\"addData\",inplace=True)\n",
    "print(\"升序：\\n\",file[\"addData\"])\n",
    "\n",
    "file.sort_values(\"addData\",inplace=True,ascending=False)\n",
    "print(\"降序：\\n\",file[\"addData\"])\n"
   ]
  },
  {
   "cell_type": "code",
   "execution_count": 31,
   "metadata": {},
   "outputs": [
    {
     "name": "stdout",
     "output_type": "stream",
     "text": [
      "   Number    h  weiht  gender      name  temperature  married     addData\n",
      "0       1  199    200       1  zhangsan         37.5      NaN    0.000000\n",
      "1       2  200    200       1      lisi         37.2      1.0   16.666667\n",
      "2       3  155    200       0    wangwu         37.6      1.0   33.333333\n",
      "3       4  155    200       0    wangwu         37.6      0.0   50.000000\n",
      "4       5  135    200       0    wangwu         37.6      NaN   66.666667\n",
      "5       6  145    200       0    wangwu         37.6      0.0   83.333333\n",
      "6       7  165    200       0    wangwu         37.6      NaN  100.000000\n"
     ]
    },
    {
     "data": {
      "text/html": [
       "<div>\n",
       "<style scoped>\n",
       "    .dataframe tbody tr th:only-of-type {\n",
       "        vertical-align: middle;\n",
       "    }\n",
       "\n",
       "    .dataframe tbody tr th {\n",
       "        vertical-align: top;\n",
       "    }\n",
       "\n",
       "    .dataframe thead th {\n",
       "        text-align: right;\n",
       "    }\n",
       "</style>\n",
       "<table border=\"1\" class=\"dataframe\">\n",
       "  <thead>\n",
       "    <tr style=\"text-align: right;\">\n",
       "      <th></th>\n",
       "      <th>addData</th>\n",
       "      <th>h</th>\n",
       "    </tr>\n",
       "    <tr>\n",
       "      <th>gender</th>\n",
       "      <th></th>\n",
       "      <th></th>\n",
       "    </tr>\n",
       "  </thead>\n",
       "  <tbody>\n",
       "    <tr>\n",
       "      <th>0</th>\n",
       "      <td>66.666667</td>\n",
       "      <td>151.0</td>\n",
       "    </tr>\n",
       "    <tr>\n",
       "      <th>1</th>\n",
       "      <td>8.333333</td>\n",
       "      <td>199.5</td>\n",
       "    </tr>\n",
       "  </tbody>\n",
       "</table>\n",
       "</div>"
      ],
      "text/plain": [
       "          addData      h\n",
       "gender                  \n",
       "0       66.666667  151.0\n",
       "1        8.333333  199.5"
      ]
     },
     "execution_count": 31,
     "metadata": {},
     "output_type": "execute_result"
    }
   ],
   "source": [
    "\n",
    "print(file)\n",
    "#求出 不同性别的addData的总和\n",
    "file.pivot_table(index = \"gender\",values = [\"addData\"],aggfunc=np.sum)\n",
    "#求出 不同性别的addData的平均值\n",
    "file.pivot_table(index = \"gender\",values = [\"addData\"],aggfunc=np.mean)\n",
    "\n",
    "#求出 不同性别的addData的平均值,h平均值\n",
    "file.pivot_table(index = \"gender\",values = [\"addData\",\"h\"],aggfunc=np.mean)\n",
    "\n",
    "\n"
   ]
  },
  {
   "cell_type": "code",
   "execution_count": 45,
   "metadata": {},
   "outputs": [
    {
     "name": "stdout",
     "output_type": "stream",
     "text": [
      "   Number    h  weiht  gender    name  temperature  married    addData\n",
      "1       2  200    200       1    lisi         37.2      1.0  16.666667\n",
      "2       3  155    200       0  wangwu         37.6      1.0  33.333333\n",
      "3       4  155    200       0  wangwu         37.6      0.0  50.000000\n",
      "5       6  145    200       0  wangwu         37.6      0.0  83.333333\n",
      "   Number    h  weiht  gender    name  temperature  married    addData\n",
      "1       2  200    200       1    lisi         37.2      1.0  16.666667\n",
      "2       3  155    200       0  wangwu         37.6      1.0  33.333333\n",
      "3       4  155    200       0  wangwu         37.6      0.0  50.000000\n",
      "5       6  145    200       0  wangwu         37.6      0.0  83.333333\n",
      "go special location: \n",
      " 1\n"
     ]
    }
   ],
   "source": [
    "#丢掉数据位NAN的行列\n",
    "\n",
    "\n",
    "#丢掉包含NAN的所有列\n",
    "#new_file_col = file.dropna(axis = 1)\n",
    "\n",
    "#丢掉包含NAN数据的行\n",
    "new_file_row= file.dropna(axis = 0)\n",
    "\n",
    "#丢掉指定某列包含NAN的数据列\n",
    "new_file_col = file.dropna(axis = 0,subset=[\"married\"])\n",
    "print(new_file_row)\n",
    "print(new_file_col)\n",
    "\n",
    "#定位具体某个数据,也是通过索引的方式FrameData.loc[x,\"\"]\n",
    "print(\"get special location: \\n\",file.loc[1,\"gender\"])"
   ]
  },
  {
   "cell_type": "code",
   "execution_count": null,
   "metadata": {},
   "outputs": [],
   "source": []
  }
 ],
 "metadata": {
  "kernelspec": {
   "display_name": "Python 3",
   "language": "python",
   "name": "python3"
  },
  "language_info": {
   "codemirror_mode": {
    "name": "ipython",
    "version": 3
   },
   "file_extension": ".py",
   "mimetype": "text/x-python",
   "name": "python",
   "nbconvert_exporter": "python",
   "pygments_lexer": "ipython3",
   "version": "3.6.8"
  }
 },
 "nbformat": 4,
 "nbformat_minor": 2
}
