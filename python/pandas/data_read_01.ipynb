{
 "cells": [
  {
   "cell_type": "code",
   "execution_count": null,
   "metadata": {
    "collapsed": true
   },
   "outputs": [],
   "source": [
    "#pandas  数据处理库 ,基于numpy的一个库"
   ]
  },
  {
   "cell_type": "code",
   "execution_count": 4,
   "metadata": {},
   "outputs": [
    {
     "name": "stdout",
     "output_type": "stream",
     "text": [
      "   Number    h  weiht  gender      name  temperatur\n",
      "0       1  199    200       1  zhangsan        37.5\n",
      "1       2  200    200       1      lisi        37.2\n",
      "2       3  155    200       0    wangwu        37.6\n",
      "3       4  155    200       0    wangwu        37.6\n",
      "4       5  135    200       0    wangwu        37.6\n",
      "5       6  145    200       0    wangwu        37.6\n",
      "6       7  165    200       0    wangwu        37.6\n",
      "<class 'pandas.core.frame.DataFrame'>\n",
      "(7, 6)\n",
      "Number          int64\n",
      "h               int64\n",
      "weiht           int64\n",
      "gender          int64\n",
      "name           object\n",
      "temperatur    float64\n",
      "dtype: object\n"
     ]
    }
   ],
   "source": [
    "import pandas \n",
    "\n",
    "file = pandas.read_csv(\"test.csv\")\n",
    "print(file)\n",
    "\n",
    "#class 'pandas.core.frame.DataFrame' 为panda核心结构\n",
    "#DataFrame相当于矩阵结构\n",
    "print(type(file))\n",
    "\n",
    "print(file.shape)\n",
    "\n",
    "#字符型的值得类型为 object\n",
    "print(file.dtypes)\n",
    "\n",
    "\n",
    "\n",
    "\n"
   ]
  },
  {
   "cell_type": "code",
   "execution_count": 15,
   "metadata": {},
   "outputs": [
    {
     "name": "stdout",
     "output_type": "stream",
     "text": [
      "Index(['Number', 'h', 'weiht', 'gender', 'name', 'temperatur'], dtype='object')\n",
      "<class 'pandas.core.indexes.base.Index'>\n"
     ]
    }
   ],
   "source": [
    "#显示cvs文件内容的，file.head()默认显示前5条\n",
    "#file.head(3)显示前三条\n",
    "#file.head()\n",
    "\n",
    "\n",
    "#显示cvs文件内容的，file.tail()默认显示最后5条\n",
    "#file.tail(3),显示最后3条\n",
    "file.tail()\n",
    "\n",
    "#打印该文件的所有指标\n",
    "print(file.columns)\n",
    "\n",
    "\n",
    "\n"
   ]
  },
  {
   "cell_type": "code",
   "execution_count": null,
   "metadata": {
    "collapsed": true
   },
   "outputs": [],
   "source": []
  }
 ],
 "metadata": {
  "kernelspec": {
   "display_name": "Python 3",
   "language": "python",
   "name": "python3"
  },
  "language_info": {
   "codemirror_mode": {
    "name": "ipython",
    "version": 3
   },
   "file_extension": ".py",
   "mimetype": "text/x-python",
   "name": "python",
   "nbconvert_exporter": "python",
   "pygments_lexer": "ipython3",
   "version": "3.5.4"
  }
 },
 "nbformat": 4,
 "nbformat_minor": 2
}
