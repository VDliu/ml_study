{
 "cells": [
  {
   "cell_type": "code",
   "execution_count": 8,
   "metadata": {},
   "outputs": [
    {
     "name": "stdout",
     "output_type": "stream",
     "text": [
      "[['1111' 'hell1']\n",
      " ['1111' 'hell2']\n",
      " ['1111' 'hell3']\n",
      " ['1111' 'hell4']\n",
      " ['1111' 'hell5']\n",
      " ['1111' 'hell6']\n",
      " ['22222' 'hel7o']\n",
      " ['22222' 'hell8']\n",
      " ['22222' 'hell9']\n",
      " ['222' 'hell10']]\n",
      "<class 'numpy.ndarray'>\n",
      "[1 2 3 4]\n",
      "[[1 2 3]\n",
      " [2 3 4]\n",
      " [3 4 5]]\n",
      "(3, 3)\n"
     ]
    }
   ],
   "source": [
    "#np加载文件\n",
    "import numpy as np\n",
    "\n",
    "# 文件路径  文件内容分割  文件内容类型\n",
    "src= np.genfromtxt(\"test.txt\",delimiter=\",\",dtype=str)\n",
    "\n",
    "print(src)\n",
    "print(type(src))\n",
    "#print (help(np.genfromtxt))\n",
    "\n",
    "#创建数组\n",
    "vector = np.array([1,2,3,4])\n",
    "#创建矩阵\n",
    "mat = np.array([[1,2,3],[2,3,4],[3,4,5]])\n",
    "print(vector)\n",
    "print(mat)\n",
    "\n",
    "#打印mat的结构（此处 3 * 3 ）\n",
    "print(mat.shape)\n"
   ]
  },
  {
   "cell_type": "code",
   "execution_count": 43,
   "metadata": {},
   "outputs": [
    {
     "name": "stdout",
     "output_type": "stream",
     "text": [
      "[[False False False]\n",
      " [False False False]\n",
      " [False False  True]]\n",
      "[False False  True]\n",
      "[[3]\n",
      " [4]\n",
      " [5]]\n",
      "[[3 4 5]]\n",
      "<U1\n",
      "float32\n",
      "[ 1.  2.  3.]\n",
      "1\n",
      "4\n",
      "[30 29 27]\n",
      "[ 8 32 46]\n"
     ]
    }
   ],
   "source": [
    "import numpy as np\n",
    "#1.np.array([2,3,4,5])  里面的元素类型需要一致，如果不一致系统会自动转换\n",
    "n = np.array([2,3,5.0])\n",
    "#print(n)\n",
    "#print(n.dtype)\n",
    "\n",
    "#取矩阵中的数据，\n",
    "#mat[i,j],取得i行，j列的数据\n",
    "#mat[:,j]，取矩阵中的所有行 + 某列，切片操作（切片范围： 前闭后开）\n",
    "\n",
    "\n",
    "vector = np.array([1,2,3,4])\n",
    "\n",
    "vector == 2 # 相当于对array中每一个元素都进行了判断,输出array([False, True, False, False], dtype=bool)\n",
    "\n",
    "mat = np.array([\n",
    "    [1,2,3],\n",
    "    [2,3,4],\n",
    "    [3,4,5]\n",
    "    ])\n",
    "\n",
    "re = mat == 5 #矩阵也是同理,返回的re也是矩阵\n",
    "             # array([[False, False, False],\n",
    "             #       [False, False, False],\n",
    "             #       False, False,  True]], dtype=bool)\n",
    "print(re)\n",
    "        \n",
    "line = (mat[:,2] == 5) #在第三列数据中是否有元素等于5\n",
    "print(line)\n",
    "\n",
    "print(mat[:,line]) # 打印包含5的这一列\n",
    "print(mat[line,:]) #打印包含5的这一行\n",
    "\n",
    "\n",
    "#转换array里面的元素类型  str->float\n",
    "v = np.array([\"1\",\"2\",\"3\"])\n",
    "print(v.dtype)\n",
    "\n",
    "v = v.astype(np.float32)\n",
    "print(v.dtype)\n",
    "print(v)\n",
    "\n",
    "\n",
    "\n",
    "vc = np.array([1,2,3,4])\n",
    "print(vc.min())\n",
    "print(vc.max())\n",
    "\n",
    "\n",
    "va = np.array([[5,10,15],\n",
    "               [1,12,16],\n",
    "               [2,10,15],\n",
    "              ])\n",
    "print(va.sum(axis = 1))#按行求和，[30 29 27]\n",
    "print(va.sum(axis = 0))#按列求和，[ 8 32 46]\n",
    "\n",
    "\n",
    "\n",
    "\n",
    "\n",
    "\n",
    "\n"
   ]
  },
  {
   "cell_type": "code",
   "execution_count": 12,
   "metadata": {},
   "outputs": [
    {
     "name": "stdout",
     "output_type": "stream",
     "text": [
      "[ 0  1  2  3  4  5  6  7  8  9 10 11 12 13 14]\n",
      "[[ 0  1  2  3  4]\n",
      " [ 5  6  7  8  9]\n",
      " [10 11 12 13 14]]\n",
      "[[ 0.  0.  0.  0.]\n",
      " [ 0.  0.  0.  0.]\n",
      " [ 0.  0.  0.  0.]]\n",
      "[[1 1 1 1]\n",
      " [1 1 1 1]\n",
      " [1 1 1 1]]\n",
      "[10 15 20 25]\n",
      "[[ 0.95057742  0.3138582   0.5870517 ]\n",
      " [ 0.94591674  0.8639504   0.58936778]]\n"
     ]
    }
   ],
   "source": [
    "import cv2\n",
    "import numpy as np\n",
    "\n",
    "#将数组转化为矩阵\n",
    "arr = np.array(np.arange(15))\n",
    "print(arr)\n",
    "mat35 =arr.reshape(3,5)\n",
    "print(mat35)\n",
    "\n",
    "\n",
    "#初始化一个元素全部为0的矩阵\n",
    "mat_zero = np.zeros((3,4))\n",
    "print(mat_zero)\n",
    "\n",
    "#初始化一个元素全部为1的矩阵\n",
    "mat_one = np.ones((3,4),dtype = np.int32)\n",
    "print(mat_one)\n",
    "\n",
    "#等间距数组，每隔多少一加\n",
    "arrr = np.arange(10,30,5)\n",
    "print(arrr) #[10 15 20 25]\n",
    "\n",
    "\n",
    "#随机矩阵产生 （2 x 3） ，元素都小于1的矩阵\n",
    "#[[ 0.95057742  0.3138582   0.5870517 ]\n",
    "# [ 0.94591674  0.8639504   0.58936778]]\n",
    "print(np.random.random((2,3)))\n",
    "\n",
    "\n",
    "\n",
    "\n",
    "\n",
    "\n"
   ]
  },
  {
   "cell_type": "code",
   "execution_count": null,
   "metadata": {
    "collapsed": true
   },
   "outputs": [],
   "source": []
  }
 ],
 "metadata": {
  "kernelspec": {
   "display_name": "Python 3",
   "language": "python",
   "name": "python3"
  },
  "language_info": {
   "codemirror_mode": {
    "name": "ipython",
    "version": 3
   },
   "file_extension": ".py",
   "mimetype": "text/x-python",
   "name": "python",
   "nbconvert_exporter": "python",
   "pygments_lexer": "ipython3",
   "version": "3.5.4"
  }
 },
 "nbformat": 4,
 "nbformat_minor": 2
}
